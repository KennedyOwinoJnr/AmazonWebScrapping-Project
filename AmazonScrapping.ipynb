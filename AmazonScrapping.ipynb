{
 "cells": [
  {
   "cell_type": "code",
   "execution_count": 1,
   "metadata": {},
   "outputs": [],
   "source": [
    "from bs4 import BeautifulSoup\n",
    "import requests\n",
    "import pandas as pd\n",
    "\n",
    "import re\n",
    "\n"
   ]
  },
  {
   "cell_type": "code",
   "execution_count": 27,
   "metadata": {},
   "outputs": [],
   "source": [
    "#landing page\n",
    "\n",
    "landing_page = \"https://www.amazon.com/s?i=computers-intl-ship&bbn=16225007011&rh=n%3A16225007011%2Cn%3A13896617011%2Cp_n_deal_type%3A23566065011&dc&ds=v1%3A0skNnwRMDjZUviLW2wbTrH0XVm9pFV3leK3HXNOFM6Q&qid=1708154445&rnid=23566063011&ref=sr_nr_p_n_deal_type_1\"\n",
    "\n",
    "\n",
    "#defining the HEADERS\n",
    "HEADERS = ({'User-Agent':\n",
    "            'Mozilla/5.0 (X11; Linux x86_64) AppleWebKit/537.36 (KHTML, like Gecko) Chrome/44.0.2403.157 Safari/537.36',\n",
    "            'Accept-Language': 'en-US, en;q=0.5'})"
   ]
  },
  {
   "cell_type": "code",
   "execution_count": 28,
   "metadata": {},
   "outputs": [],
   "source": [
    "#get the http request\n",
    "\n",
    "request = requests.get(url= landing_page, headers= HEADERS)"
   ]
  },
  {
   "cell_type": "code",
   "execution_count": 19,
   "metadata": {},
   "outputs": [
    {
     "data": {
      "text/plain": [
       "['_content',\n",
       " 'status_code',\n",
       " 'headers',\n",
       " 'url',\n",
       " 'history',\n",
       " 'encoding',\n",
       " 'reason',\n",
       " 'cookies',\n",
       " 'elapsed',\n",
       " 'request']"
      ]
     },
     "execution_count": 19,
     "metadata": {},
     "output_type": "execute_result"
    }
   ],
   "source": [
    "#vieew all the atrributes\n",
    "\n",
    "request.__attrs__"
   ]
  },
  {
   "cell_type": "code",
   "execution_count": 29,
   "metadata": {},
   "outputs": [
    {
     "data": {
      "text/plain": [
       "200"
      ]
     },
     "execution_count": 29,
     "metadata": {},
     "output_type": "execute_result"
    }
   ],
   "source": [
    "#view the status code\n",
    "\n",
    "request.status_code"
   ]
  },
  {
   "cell_type": "code",
   "execution_count": 30,
   "metadata": {},
   "outputs": [],
   "source": [
    "#creating soup\n",
    "\n",
    "soup = BeautifulSoup(markup= request.content, \n",
    "                     features= 'html.parser')"
   ]
  },
  {
   "cell_type": "code",
   "execution_count": 31,
   "metadata": {},
   "outputs": [],
   "source": [
    "ProductList = soup.find_all(name= 'div', \n",
    "                            attrs= {\"class\": \"a-section a-spacing-small puis-padding-left-small puis-padding-right-small\"})"
   ]
  },
  {
   "cell_type": "code",
   "execution_count": 32,
   "metadata": {},
   "outputs": [
    {
     "data": {
      "text/plain": [
       "<div class=\"a-section a-spacing-small puis-padding-left-small puis-padding-right-small\"><div class=\"a-section a-spacing-none a-text-center\"><div class=\"a-section s-color-swatch-container s-quick-view-text-align-start\"><div data-csa-c-content-id=\"more-colors-message\" data-csa-c-interaction-events=\"click\" data-csa-c-swatch-more-url=\"/sspa/click?ie=UTF8&amp;spc=MTo0NzcyMzAzMTI0NjU2MDQ3OjE3MDgxNjExOTA6c3BfYXRmX2Jyb3dzZTozMDAwMzc4OTI5MzYzMDI6OjA6Og&amp;url=%2FTablets-Android-Expand-Quad-Core-Camera%2Fdp%2FB0BFWWZ3PS%2Fref%3Dacm_sr_dp_sspa%3Fdib%3DeyJ2IjoiMSJ9.wxL_4aeDzhJLlBo6Kx-on7rOeA-9ymRX1N7QZZqmtCykC70M9_c3E3FaUrTMNVWgHtmKvcarThxR3jFO11WcaCHcZi_sv3E7skoGz4Etd2OIgrYPIRcQMeGWhPWlIHjcU9dK5R4dNhEc14xc_BhVrv-pdbOQtm00U5MC9cdiZYLMvYdfOQqZ0WBWwNvMdQkJMStMqmnGK5SoAdOOwAIMszl-V2VM8Oh610Few13yd2DYprP8uj4l2UlWY6zLwaZ-QnkVkyIEA1Bp42IzavhTpklt5cgZ1ahBHhtYHU4Xt7U.oWm8DSwWQUnBGXGu9Hpe-dKlmjOb29tnkiHc-ZR-zaU%26dib_tag%3Dse%26qid%3D1708161190%26refinements%3Dp_n_deal_type%253A23566065011%26rnid%3D23566063011%26s%3Dcomputers-intl-ship%26sr%3D1-1-spons%26sp_csd%3Dd2lkZ2V0TmFtZT1zcF9hdGZfYnJvd3Nl%26psc%3D1\" data-csa-c-swatch-remaining-count=\"+1 color/pattern\" data-csa-c-type=\"link\"><a class=\"a-link-normal s-color-swatch-link puis-spacing-small s-hidden-in-quick-view\" href=\"/sspa/click?ie=UTF8&amp;spc=MTo0NzcyMzAzMTI0NjU2MDQ3OjE3MDgxNjExOTA6c3BfYXRmX2Jyb3dzZTozMDAwMzc4OTI5MzYzMDI6OjA6Og&amp;url=%2FTablets-Android-Expand-Quad-Core-Camera%2Fdp%2FB0BFWWZ3PS%2Fref%3Dacm_sr_dp_sspa%3Fdib%3DeyJ2IjoiMSJ9.wxL_4aeDzhJLlBo6Kx-on7rOeA-9ymRX1N7QZZqmtCykC70M9_c3E3FaUrTMNVWgHtmKvcarThxR3jFO11WcaCHcZi_sv3E7skoGz4Etd2OIgrYPIRcQMeGWhPWlIHjcU9dK5R4dNhEc14xc_BhVrv-pdbOQtm00U5MC9cdiZYLMvYdfOQqZ0WBWwNvMdQkJMStMqmnGK5SoAdOOwAIMszl-V2VM8Oh610Few13yd2DYprP8uj4l2UlWY6zLwaZ-QnkVkyIEA1Bp42IzavhTpklt5cgZ1ahBHhtYHU4Xt7U.oWm8DSwWQUnBGXGu9Hpe-dKlmjOb29tnkiHc-ZR-zaU%26dib_tag%3Dse%26qid%3D1708161190%26refinements%3Dp_n_deal_type%253A23566065011%26rnid%3D23566063011%26s%3Dcomputers-intl-ship%26sr%3D1-1-spons%26sp_csd%3Dd2lkZ2V0TmFtZT1zcF9hdGZfYnJvd3Nl%26psc%3D1\" role=\"link\"><u>+1 color/pattern</u></a></div></div></div><div class=\"a-section a-spacing-none a-spacing-top-small s-title-instructions-style\" data-cy=\"title-recipe\"><div class=\"a-row a-spacing-micro\"><span class=\"a-declarative\" data-a-popover='{\"name\":\"sp-info-popover-B0BFWWZ3PS\",\"position\":\"triggerVertical\",\"closeButton\":\"true\",\"dataStrategy\":\"preload\"}' data-action=\"a-popover\" data-csa-c-func-deps=\"aui-da-a-popover\" data-csa-c-type=\"widget\" data-render-id=\"r2ibrpxr1lye5j2lasvznoulb3a\" data-version-id=\"v1edbe4bhq8wue299td5uj4h2b9\"><a aria-label=\"View Sponsored information or leave ad feedback\" class=\"puis-label-popover puis-sponsored-label-text\" href=\"javascript:void(0)\" role=\"button\" style=\"text-decoration: none;\"><span class=\"puis-label-popover-default\"><span class=\"a-color-secondary\">Sponsored</span></span><span class=\"puis-label-popover-hover\"><span class=\"a-color-base\">Sponsored</span></span> <span class=\"aok-inline-block puis-sponsored-label-info-icon\"></span></a></span><div class=\"a-popover-preload\" id=\"a-popover-sp-info-popover-B0BFWWZ3PS\"><div class=\"puis puis-v1edbe4bhq8wue299td5uj4h2b9\"><span>You’re seeing this ad based on the product’s relevance to your search query.</span><div class=\"a-row\"><span class=\"a-declarative\" data-action=\"s-safe-ajax-modal-trigger\" data-csa-c-func-deps=\"aui-da-s-safe-ajax-modal-trigger\" data-csa-c-type=\"widget\" data-render-id=\"r2ibrpxr1lye5j2lasvznoulb3a\" data-s-safe-ajax-modal-trigger='{\"header\":\"Leave feedback\",\"dataStrategy\":\"ajax\",\"ajaxUrl\":\"/af/sp-loom/feedback-form?pl=%7B%22adPlacementMetaData%22%3A%7B%22searchTerms%22%3A%22Q29tcHV0ZXJzICYgVGFibGV0cw%3D%3D%22%2C%22pageType%22%3A%22Search%22%2C%22feedbackType%22%3A%22sponsoredProductsLoom%22%2C%22slotName%22%3A%22TOP%22%7D%2C%22adCreativeMetaData%22%3A%7B%22adProgramId%22%3A1024%2C%22adCreativeDetails%22%3A%5B%7B%22asin%22%3A%22B0BFWWZ3PS%22%2C%22title%22%3A%222024+Newest+10+inch+Tablets%2C+Android+Tablets%2C+6GB%2B128GB%2B1TB+Expand+Tablet%2C+Quad-Core%2C+Dual+Camera%2C+6%22%2C%22priceInfo%22%3A%7B%22amount%22%3A59.99%2C%22currencyCode%22%3A%22USD%22%7D%2C%22sku%22%3A%227Y-V10S-TYLH%22%2C%22adId%22%3A%22A039546735RSGDI19HRQ5%22%2C%22campaignId%22%3A%22A06205573GJT3E7SJFZMQ%22%2C%22advertiserIdNS%22%3Anull%2C%22selectionSignals%22%3Anull%7D%5D%7D%7D\"}' data-version-id=\"v1edbe4bhq8wue299td5uj4h2b9\"><a class=\"a-link-normal s-underline-text s-underline-link-text s-link-style\" href=\"#\"><span>Leave ad feedback</span> </a> </span></div></div></div></div><h2 class=\"a-size-mini a-spacing-none a-color-base s-line-clamp-4\"><a class=\"a-link-normal s-underline-text s-underline-link-text s-link-style a-text-normal\" href=\"/sspa/click?ie=UTF8&amp;spc=MTo0NzcyMzAzMTI0NjU2MDQ3OjE3MDgxNjExOTA6c3BfYXRmX2Jyb3dzZTozMDAwMzc4OTI5MzYzMDI6OjA6Og&amp;url=%2FTablets-Android-Expand-Quad-Core-Camera%2Fdp%2FB0BFWWZ3PS%2Fref%3Dsr_1_1_sspa%3Fdib%3DeyJ2IjoiMSJ9.wxL_4aeDzhJLlBo6Kx-on7rOeA-9ymRX1N7QZZqmtCykC70M9_c3E3FaUrTMNVWgHtmKvcarThxR3jFO11WcaCHcZi_sv3E7skoGz4Etd2OIgrYPIRcQMeGWhPWlIHjcU9dK5R4dNhEc14xc_BhVrv-pdbOQtm00U5MC9cdiZYLMvYdfOQqZ0WBWwNvMdQkJMStMqmnGK5SoAdOOwAIMszl-V2VM8Oh610Few13yd2DYprP8uj4l2UlWY6zLwaZ-QnkVkyIEA1Bp42IzavhTpklt5cgZ1ahBHhtYHU4Xt7U.oWm8DSwWQUnBGXGu9Hpe-dKlmjOb29tnkiHc-ZR-zaU%26dib_tag%3Dse%26qid%3D1708161190%26refinements%3Dp_n_deal_type%253A23566065011%26rnid%3D23566063011%26s%3Dcomputers-intl-ship%26sr%3D1-1-spons%26sp_csd%3Dd2lkZ2V0TmFtZT1zcF9hdGZfYnJvd3Nl%26psc%3D1\"><span class=\"a-size-base-plus a-color-base a-text-normal\">2024 Newest 10 inch Tablets, Android Tablets, 6GB+128GB+1TB Expand Tablet, Quad-Core, Dual Camera, 6000mAh, 1280 * 800 IPS HD Touch Screen, BT, 2.4G+5G+Wi-Fi 6, Game, Google GMS</span> </a> </h2></div><div class=\"a-section a-spacing-none a-spacing-top-micro\"><div class=\"a-row a-size-small\"><span aria-label=\"3.9 out of 5 stars\"><span class=\"a-declarative\" data-a-popover='{\"position\":\"triggerBottom\",\"popoverLabel\":\"\",\"url\":\"/review/widgets/average-customer-review/popover/ref=acr_search__popover?ie=UTF8&amp;asin=B0BFWWZ3PS&amp;ref_=acr_search__popover&amp;contextId=search\",\"closeButton\":false,\"closeButtonLabel\":\"\"}' data-action=\"a-popover\" data-csa-c-func-deps=\"aui-da-a-popover\" data-csa-c-type=\"widget\" data-render-id=\"r2ibrpxr1lye5j2lasvznoulb3a\" data-version-id=\"v1edbe4bhq8wue299td5uj4h2b9\"><a class=\"a-popover-trigger a-declarative\" href=\"javascript:void(0)\" role=\"button\"><i class=\"a-icon a-icon-star-small a-star-small-4 aok-align-bottom\"><span class=\"a-icon-alt\">3.9 out of 5 stars</span></i><i class=\"a-icon a-icon-popover\"></i></a></span> </span><span class=\"rush-component\" data-component-type=\"s-client-side-analytics\" data-render-id=\"r2ibrpxr1lye5j2lasvznoulb3a\" data-version-id=\"v1edbe4bhq8wue299td5uj4h2b9\"><div class=\"s-csa-instrumentation-wrapper alf-search-csa-instrumentation-wrapper\" data-csa-c-asin=\"B0BFWWZ3PS\" data-csa-c-content-id=\"alf-customer-ratings-count-component\" data-csa-c-layout=\"GRID\" data-csa-c-slot-id=\"alf-reviews\" data-csa-c-type=\"alf-af-component\" data-csa-op-log-render=\"\" style=\"display: inline-block\"><span aria-label=\"144\"><a class=\"a-link-normal s-underline-text s-underline-link-text s-link-style\" href=\"/sspa/click?ie=UTF8&amp;spc=MTo0NzcyMzAzMTI0NjU2MDQ3OjE3MDgxNjExOTA6c3BfYXRmX2Jyb3dzZTozMDAwMzc4OTI5MzYzMDI6OjA6Og&amp;url=%2FTablets-Android-Expand-Quad-Core-Camera%2Fdp%2FB0BFWWZ3PS%2Fref%3Dsr_1_1_sspa%3Fdib%3DeyJ2IjoiMSJ9.wxL_4aeDzhJLlBo6Kx-on7rOeA-9ymRX1N7QZZqmtCykC70M9_c3E3FaUrTMNVWgHtmKvcarThxR3jFO11WcaCHcZi_sv3E7skoGz4Etd2OIgrYPIRcQMeGWhPWlIHjcU9dK5R4dNhEc14xc_BhVrv-pdbOQtm00U5MC9cdiZYLMvYdfOQqZ0WBWwNvMdQkJMStMqmnGK5SoAdOOwAIMszl-V2VM8Oh610Few13yd2DYprP8uj4l2UlWY6zLwaZ-QnkVkyIEA1Bp42IzavhTpklt5cgZ1ahBHhtYHU4Xt7U.oWm8DSwWQUnBGXGu9Hpe-dKlmjOb29tnkiHc-ZR-zaU%26dib_tag%3Dse%26qid%3D1708161190%26refinements%3Dp_n_deal_type%253A23566065011%26rnid%3D23566063011%26s%3Dcomputers-intl-ship%26sr%3D1-1-spons%26sp_csd%3Dd2lkZ2V0TmFtZT1zcF9hdGZfYnJvd3Nl%26psc%3D1#customerReviews\"><span class=\"a-size-base s-underline-text\">144</span> </a> </span></div></span></div></div><div class=\"a-section a-spacing-none a-spacing-top-small s-price-instructions-style\" data-cy=\"price-recipe\"><div class=\"a-row a-size-base a-color-base\"><div class=\"a-row\"><a class=\"a-link-normal s-no-hover s-underline-text s-underline-link-text s-link-style a-text-normal\" href=\"/sspa/click?ie=UTF8&amp;spc=MTo0NzcyMzAzMTI0NjU2MDQ3OjE3MDgxNjExOTA6c3BfYXRmX2Jyb3dzZTozMDAwMzc4OTI5MzYzMDI6OjA6Og&amp;url=%2FTablets-Android-Expand-Quad-Core-Camera%2Fdp%2FB0BFWWZ3PS%2Fref%3Dsr_1_1_sspa%3Fdib%3DeyJ2IjoiMSJ9.wxL_4aeDzhJLlBo6Kx-on7rOeA-9ymRX1N7QZZqmtCykC70M9_c3E3FaUrTMNVWgHtmKvcarThxR3jFO11WcaCHcZi_sv3E7skoGz4Etd2OIgrYPIRcQMeGWhPWlIHjcU9dK5R4dNhEc14xc_BhVrv-pdbOQtm00U5MC9cdiZYLMvYdfOQqZ0WBWwNvMdQkJMStMqmnGK5SoAdOOwAIMszl-V2VM8Oh610Few13yd2DYprP8uj4l2UlWY6zLwaZ-QnkVkyIEA1Bp42IzavhTpklt5cgZ1ahBHhtYHU4Xt7U.oWm8DSwWQUnBGXGu9Hpe-dKlmjOb29tnkiHc-ZR-zaU%26dib_tag%3Dse%26qid%3D1708161190%26refinements%3Dp_n_deal_type%253A23566065011%26rnid%3D23566063011%26s%3Dcomputers-intl-ship%26sr%3D1-1-spons%26sp_csd%3Dd2lkZ2V0TmFtZT1zcF9hdGZfYnJvd3Nl%26psc%3D1\"><span class=\"a-price\" data-a-color=\"base\" data-a-size=\"xl\"><span class=\"a-offscreen\">$59.99</span><span aria-hidden=\"true\"><span class=\"a-price-symbol\">$</span><span class=\"a-price-whole\">59<span class=\"a-price-decimal\">.</span></span><span class=\"a-price-fraction\">99</span></span></span> <div class=\"a-section aok-inline-block\"><span class=\"a-size-base a-color-secondary\">List: </span><span class=\"a-price a-text-price\" data-a-color=\"secondary\" data-a-size=\"b\" data-a-strike=\"true\"><span class=\"a-offscreen\">$69.99</span><span aria-hidden=\"true\">$69.99</span></span></div></a></div><div class=\"a-row\"></div></div></div><div class=\"a-section a-spacing-none a-spacing-top-micro\" data-cy=\"delivery-recipe\"><div class=\"a-row a-size-base a-color-secondary s-align-children-center\"><span aria-label=\"Delivery Mon, Mar 4 \"><span class=\"a-color-base\">Delivery </span><span class=\"a-color-base a-text-bold\">Mon, Mar 4 </span></span></div><div class=\"a-row a-size-base a-color-secondary s-align-children-center\"><span class=\"a-size-small a-color-base\">Ships to Kenya</span></div></div></div>"
      ]
     },
     "execution_count": 32,
     "metadata": {},
     "output_type": "execute_result"
    }
   ],
   "source": [
    "#first product\n",
    "test = ProductList[0]\n",
    "\n",
    "test"
   ]
  },
  {
   "cell_type": "code",
   "execution_count": 37,
   "metadata": {},
   "outputs": [],
   "source": [
    "#finding the product title\n",
    "title = test.find(name= 'h2', attrs= {'class': 'a-size-mini a-spacing-none a-color-base s-line-clamp-4'})\\\n",
    "     .find(name  = 'a', attrs = {'class': 'a-link-normal s-underline-text s-underline-link-text s-link-style a-text-normal'})\\\n",
    "     .find(name = 'span', attrs = {'class': 'a-size-base-plus a-color-base a-text-normal'}).text"
   ]
  },
  {
   "cell_type": "code",
   "execution_count": 84,
   "metadata": {},
   "outputs": [
    {
     "data": {
      "text/plain": [
       "'59.99'"
      ]
     },
     "execution_count": 84,
     "metadata": {},
     "output_type": "execute_result"
    }
   ],
   "source": [
    "#Extracting price after discount\n",
    "\n",
    "PriceAfterDiscount = test.find(name= 'div',attrs= {'data-cy': \"price-recipe\"})\\\n",
    "                         .find(name = 'div', attrs = {'class': \"a-row a-size-base a-color-base\"})\\\n",
    "                         .find(name = 'div', attrs = {'class': 'a-row'})\\\n",
    "                         .find(name = 'span', attrs = {'class': 'a-price'}).text.split('$')[1]"
   ]
  },
  {
   "cell_type": "code",
   "execution_count": 127,
   "metadata": {},
   "outputs": [
    {
     "data": {
      "text/plain": [
       "'69.99'"
      ]
     },
     "execution_count": 127,
     "metadata": {},
     "output_type": "execute_result"
    }
   ],
   "source": [
    "#Etracting price before discount\n",
    "\n",
    "PriceBeforeDiscount = test.find(name= 'div',attrs= {'data-cy': \"price-recipe\"})\\\n",
    "                          .find(name = 'div', attrs = {'class': \"a-row a-size-base a-color-base\"})\\\n",
    "                          .find(name = 'div', attrs = {'class': 'a-row'})\\\n",
    "                          .find(name = 'a', attrs = {'class': 'a-link-normal s-no-hover s-underline-text s-underline-link-text s-link-style a-text-normal'})\\\n",
    "                          .find(name = 'div', attrs = {'class': 'a-section aok-inline-block'})\\\n",
    "                          .find(name = 'span', attrs = {'class': 'a-price a-text-price'}).text.split('$')[1]\n",
    "PriceBeforeDiscount"
   ]
  },
  {
   "cell_type": "code",
   "execution_count": 104,
   "metadata": {},
   "outputs": [],
   "source": [
    "#Etracting product rating out of five\n",
    "ProductRating = test.find(name = 'div', attrs= {'class': 'a-section a-spacing-none a-spacing-top-micro'})\\\n",
    "                    .text.split()[0]"
   ]
  },
  {
   "cell_type": "code",
   "execution_count": 148,
   "metadata": {},
   "outputs": [],
   "source": [
    "#Combing the results for the whole page\n",
    "\n",
    "df = pd.DataFrame(columns=['Title', 'PriceAfterDiscount','PriceBeforeDiscount', 'ProductRating'])\n",
    "\n",
    "for idx, product in enumerate(ProductList):\n",
    "\n",
    "    #Extract title\n",
    "\n",
    "    Title = product.find(name= 'h2', attrs= {'class': 'a-size-mini a-spacing-none a-color-base s-line-clamp-4'})\\\n",
    "                   .find(name  = 'a', attrs = {'class': 'a-link-normal s-underline-text s-underline-link-text s-link-style a-text-normal'})\\\n",
    "                   .find(name = 'span', attrs = {'class': 'a-size-base-plus a-color-base a-text-normal'}).text\n",
    "    \n",
    "    #Extracting price after discount\n",
    "\n",
    "    PriceAfterDiscount = product.find(name= 'div',attrs= {'data-cy': \"price-recipe\"})\\\n",
    "                                .find(name = 'div', attrs = {'class': \"a-row a-size-base a-color-base\"})\\\n",
    "                                .find(name = 'div', attrs = {'class': 'a-row'})\\\n",
    "                                .find(name = 'span', attrs = {'class': 'a-price'}).text.split('$')[1]\n",
    "    \n",
    "    #Etracting price before discount\n",
    "    PriceBeforeDiscount = product.find(name= 'div',attrs= {'data-cy': \"price-recipe\"})\\\n",
    "                          .find(name = 'div', attrs = {'class': \"a-row a-size-base a-color-base\"})\\\n",
    "                          .find(name = 'div', attrs = {'class': 'a-row'})\\\n",
    "                          .find(name = 'a', attrs = {'class': 'a-link-normal s-no-hover s-underline-text s-underline-link-text s-link-style a-text-normal'})\\\n",
    "                          .text.split('$')[-1]\n",
    "\n",
    "    \n",
    "    #Etracting product rating out of five\n",
    "    ProductRating = product.find(name = 'div', attrs= {'class': 'a-section a-spacing-none a-spacing-top-micro'})\\\n",
    "                           .text.split()[0]\n",
    "    \n",
    "\n",
    "    df.loc[idx] = [Title, PriceAfterDiscount, PriceBeforeDiscount ,ProductRating]\n",
    "    \n",
    "\n",
    "\n",
    "\n",
    "    \n"
   ]
  },
  {
   "cell_type": "code",
   "execution_count": 149,
   "metadata": {},
   "outputs": [
    {
     "data": {
      "text/html": [
       "<div>\n",
       "<style scoped>\n",
       "    .dataframe tbody tr th:only-of-type {\n",
       "        vertical-align: middle;\n",
       "    }\n",
       "\n",
       "    .dataframe tbody tr th {\n",
       "        vertical-align: top;\n",
       "    }\n",
       "\n",
       "    .dataframe thead th {\n",
       "        text-align: right;\n",
       "    }\n",
       "</style>\n",
       "<table border=\"1\" class=\"dataframe\">\n",
       "  <thead>\n",
       "    <tr style=\"text-align: right;\">\n",
       "      <th></th>\n",
       "      <th>Title</th>\n",
       "      <th>PriceAfterDiscount</th>\n",
       "      <th>PriceBeforeDiscount</th>\n",
       "      <th>ProductRating</th>\n",
       "    </tr>\n",
       "  </thead>\n",
       "  <tbody>\n",
       "    <tr>\n",
       "      <th>0</th>\n",
       "      <td>2024 Newest 10 inch Tablets, Android Tablets, ...</td>\n",
       "      <td>59.99</td>\n",
       "      <td>69.99</td>\n",
       "      <td>3.9</td>\n",
       "    </tr>\n",
       "    <tr>\n",
       "      <th>1</th>\n",
       "      <td>Tablet, Android 13 Tablet, 64GB ROM 6GB RAM (1...</td>\n",
       "      <td>59.99</td>\n",
       "      <td>79.99</td>\n",
       "      <td>5.0</td>\n",
       "    </tr>\n",
       "    <tr>\n",
       "      <th>2</th>\n",
       "      <td>Android 12 Tablet 10 Inch Tablet with Keyboard...</td>\n",
       "      <td>89.99</td>\n",
       "      <td>99.99</td>\n",
       "      <td>4.2</td>\n",
       "    </tr>\n",
       "    <tr>\n",
       "      <th>3</th>\n",
       "      <td>HP Notebook Laptop, 15.6\" HD Touchscreen, Inte...</td>\n",
       "      <td>472.80</td>\n",
       "      <td>699.00</td>\n",
       "      <td>4.3</td>\n",
       "    </tr>\n",
       "    <tr>\n",
       "      <th>4</th>\n",
       "      <td>SAMSUNG Galaxy Tab S6 Lite 10.4\" 128GB Android...</td>\n",
       "      <td>299.99</td>\n",
       "      <td>429.99</td>\n",
       "      <td>4.7</td>\n",
       "    </tr>\n",
       "  </tbody>\n",
       "</table>\n",
       "</div>"
      ],
      "text/plain": [
       "                                               Title PriceAfterDiscount  \\\n",
       "0  2024 Newest 10 inch Tablets, Android Tablets, ...              59.99   \n",
       "1  Tablet, Android 13 Tablet, 64GB ROM 6GB RAM (1...              59.99   \n",
       "2  Android 12 Tablet 10 Inch Tablet with Keyboard...              89.99   \n",
       "3  HP Notebook Laptop, 15.6\" HD Touchscreen, Inte...             472.80   \n",
       "4  SAMSUNG Galaxy Tab S6 Lite 10.4\" 128GB Android...             299.99   \n",
       "\n",
       "  PriceBeforeDiscount ProductRating  \n",
       "0               69.99           3.9  \n",
       "1               79.99           5.0  \n",
       "2               99.99           4.2  \n",
       "3              699.00           4.3  \n",
       "4              429.99           4.7  "
      ]
     },
     "execution_count": 149,
     "metadata": {},
     "output_type": "execute_result"
    }
   ],
   "source": [
    "df.head()"
   ]
  },
  {
   "cell_type": "markdown",
   "metadata": {},
   "source": [
    "## Adding Pagination"
   ]
  },
  {
   "cell_type": "code",
   "execution_count": 145,
   "metadata": {},
   "outputs": [],
   "source": [
    "PagesScrapped = 1\n",
    "\n",
    "df = pd.DataFrame(columns=['Title', 'PriceAfterDiscount','PriceBeforeDiscount', 'ProductRating'])\n",
    "\n",
    "landing_page = 'https://www.amazon.com/s?i=computers-intl-ship&bbn=16225007011&rh=n%3A16225007011%2Cn%3A13896617011%2Cp_n_deal_type%3A23566065011&dc&ds=v1%3A0skNnwRMDjZUviLW2wbTrH0XVm9pFV3leK3HXNOFM6Q&qid=1708154445&rnid=23566063011&ref=sr_nr_p_n_deal_type_1'\n",
    "\n",
    "url = landing_page\n",
    "\n",
    "listofDFs = []\n",
    "\n",
    "while PagesScrapped < 91:\n",
    "    #Making a request for each page\n",
    "    response = requests.get(url= url, headers= HEADERS)\n",
    "\n",
    "    #create a soup for each page\n",
    "\n",
    "    soup = BeautifulSoup(markup= response.content, features= 'html.parser')\n",
    "\n",
    "    \n",
    "\n",
    "    \n",
    "\n",
    "\n",
    "\n",
    "\n",
    "\n",
    "\n"
   ]
  },
  {
   "cell_type": "code",
   "execution_count": null,
   "metadata": {},
   "outputs": [],
   "source": []
  }
 ],
 "metadata": {
  "kernelspec": {
   "display_name": "learn-env",
   "language": "python",
   "name": "python3"
  },
  "language_info": {
   "codemirror_mode": {
    "name": "ipython",
    "version": 3
   },
   "file_extension": ".py",
   "mimetype": "text/x-python",
   "name": "python",
   "nbconvert_exporter": "python",
   "pygments_lexer": "ipython3",
   "version": "3.10.13"
  }
 },
 "nbformat": 4,
 "nbformat_minor": 2
}
